{
 "cells": [
  {
   "cell_type": "code",
   "execution_count": 1,
   "id": "e1d6af98",
   "metadata": {},
   "outputs": [
    {
     "name": "stdout",
     "output_type": "stream",
     "text": [
      "All CSV files truncated to 400 rows.\n"
     ]
    }
   ],
   "source": [
    "import pandas as pd\n",
    "import os\n",
    "\n",
    "# Path to your data directory\n",
    "data_dir = 'data'\n",
    "\n",
    "# Loop through all CSV files in the directory\n",
    "for filename in os.listdir(data_dir):\n",
    "    if filename.endswith('.csv'):\n",
    "        file_path = os.path.join(data_dir, filename)\n",
    "\n",
    "        # Read CSV, truncate, and overwrite\n",
    "        df = pd.read_csv(file_path)\n",
    "        df_cut = df.head(400)\n",
    "        df_cut.to_csv(file_path, index=False)\n",
    "\n",
    "print(\"All CSV files truncated to 400 rows.\")"
   ]
  },
  {
   "cell_type": "code",
   "execution_count": null,
   "id": "6ffe43a2",
   "metadata": {},
   "outputs": [],
   "source": []
  }
 ],
 "metadata": {
  "kernelspec": {
   "display_name": "base",
   "language": "python",
   "name": "python3"
  },
  "language_info": {
   "codemirror_mode": {
    "name": "ipython",
    "version": 3
   },
   "file_extension": ".py",
   "mimetype": "text/x-python",
   "name": "python",
   "nbconvert_exporter": "python",
   "pygments_lexer": "ipython3",
   "version": "3.12.2"
  }
 },
 "nbformat": 4,
 "nbformat_minor": 5
}
